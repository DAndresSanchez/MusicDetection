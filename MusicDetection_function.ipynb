{
 "cells": [
  {
   "cell_type": "code",
   "execution_count": 2,
   "metadata": {},
   "outputs": [],
   "source": [
    "# Load libraries\n",
    "\n",
    "import numpy as np\n",
    "import scipy\n",
    "from scipy.ndimage import convolve1d\n",
    "from scipy.io.wavfile import read, write\n",
    "import matplotlib.pyplot as plt\n",
    "import os\n",
    "import sys\n",
    "\n",
    "import librosa\n",
    "import librosa.display"
   ]
  },
  {
   "cell_type": "code",
   "execution_count": 3,
   "metadata": {},
   "outputs": [],
   "source": [
    "# Define path to audio file\n",
    "\n",
    "directory_path = '/home/daansan/David/MusicDetection/data/'\n",
    "filename = 'voice.wav'\n",
    "\n",
    "filepath = os.path.join(directory_path, filename)"
   ]
  },
  {
   "cell_type": "code",
   "execution_count": 4,
   "metadata": {},
   "outputs": [],
   "source": [
    "def silences(data, hop_length=512):\n",
    "    \"\"\"Detects where silences are and it returns a numpy array with \n",
    "    their time location in the audio signal\n",
    "\n",
    "    Parameters\n",
    "    ----------\n",
    "    data : numpy array\n",
    "        The audio signal imported with scipy.io.wavfile\n",
    "    hop_length : integer\n",
    "        Hop length for the STFT (default is 512)\n",
    "\n",
    "    Returns\n",
    "    -------\n",
    "    numpy array\n",
    "        A numpy array with values False if silence and True if sound\n",
    "        of the same size as the original signal array\n",
    "    \"\"\"\n",
    "    silences = [0]\n",
    "    \n",
    "    for i in range(0, data.shape[0], hop_length):\n",
    "        x = data[i:i+hop_length].max()\n",
    "        silences.append(x * np.abs(x)>0.0001)\n",
    "        \n",
    "    return np.array(silences)\n"
   ]
  },
  {
   "cell_type": "code",
   "execution_count": 34,
   "metadata": {},
   "outputs": [],
   "source": [
    "def MusicDetection(filepath):\n",
    "    \"\"\"Detects music in an audio file.\n",
    "\n",
    "    Parameters\n",
    "    ----------\n",
    "    filepath : string\n",
    "        Path to the audio file to analyse\n",
    "\n",
    "    Returns\n",
    "    -------\n",
    "    time\n",
    "        A numpy array with values False if silence and True if sound\n",
    "        of the same size as the original signal array\n",
    "    \n",
    "    \"\"\"\n",
    "    \n",
    "    # Load the audio\n",
    "    sr, data = read(filepath)\n",
    "    \n",
    "    # Insulate one track and normalize\n",
    "    x = data[:, 1].astype(np.float32)\n",
    "    x = x / np.abs(x).max() / 2\n",
    "    \n",
    "    # Get chromagram\n",
    "    hop_length = 512\n",
    "    chromagram = librosa.feature.chroma_stft(x, sr=sr, hop_length=hop_length)\n",
    "    \n",
    "    # Clean fragments with silences\n",
    "    silences_location = silences(x, hop_length)\n",
    "    silences_locationsilences_location = silences_location[:, np.newaxis]\n",
    "    chroma_no_silence = chromagram * silences_location[:chromagram.shape[1]].T\n",
    "    \n",
    "    # Filter chroma values by window\n",
    "    window = 30 # ~0.4s\n",
    "    filter_value = 10\n",
    "    # keep only maximum amplitudes\n",
    "    chroma_filter = np.ceil(chroma_no_silence * (chroma_no_silence >= 1))\n",
    "    # get duration of the audio track\n",
    "    length = x.size/sr \n",
    "    # define time array \n",
    "    time = np.arange(chroma_no_silence.shape[1]) / chroma_no_silence.shape[1] * length\n",
    "    for i in range(0, chroma_filter.shape[1], window):\n",
    "        # create windows-sized sections of the chroma\n",
    "        section = chroma_filter[:, i:i+window]\n",
    "        # sum chroma values for the current section\n",
    "        sum_section = section.sum(axis=1)\n",
    "        # filter results by optimised value and apply to section\n",
    "        filter = sum_section > filter_value\n",
    "        filter = filter[:, np.newaxis]\n",
    "        chroma_filter[:, i:i+window] = section * filter   \n",
    "\n",
    "    # Convolve to detect constant patterns\n",
    "    integration_time = 10\n",
    "    hammer_window = np.ones(integration_time)\n",
    "    convolved_chromagram = convolve1d(chroma_filter, hammer_window) / \\\n",
    "    convolve1d(chroma_filter, hammer_window).mean() > 0.6 \n",
    "    convolved_chromagram = np.ceil(convolved_chromagram)\n",
    "    \n",
    "    # Detect isolated music/voice incidences in the next 3 seconds\n",
    "    signal = convolved_chromagram.max(axis=0)\n",
    "    window = 260\n",
    "    signal_filtered = []\n",
    "    for i in range(signal.shape[0]):\n",
    "        signal_filtered.append(signal[i:i+window].mean() > 0.55)\n",
    "\n",
    "    # Final outcome with a time delay to compensate previous windows filter\n",
    "    delay = 1.5\n",
    "    time = time+delay\n",
    "    time[0] = 0\n",
    "    time[time > length] = length\n",
    "    music = signal_filtered\n",
    "    \n",
    "    # Plot outcome\n",
    "    fig, ax = plt.subplots(figsize=(20,5));\n",
    "    plt.plot(time, music)\n",
    "    plt.xticks(np.arange(0, length, 1))\n",
    "    plt.show()  \n",
    "    \n",
    "    return time, music"
   ]
  },
  {
   "cell_type": "code",
   "execution_count": 35,
   "metadata": {},
   "outputs": [
    {
     "data": {
      "image/png": "[encoded data removed]",
      "text/plain": [
       "<Figure size 1440x360 with 1 Axes>"
      ]
     },
     "metadata": {
      "needs_background": "light"
     },
     "output_type": "display_data"
    }
   ],
   "source": [
    "time, music = MusicDetection(filepath)"
   ]
  }
 ],
 "metadata": {
  "kernelspec": {
   "display_name": "Python 3",
   "language": "python",
   "name": "python3"
  },
  "language_info": {
   "codemirror_mode": {
    "name": "ipython",
    "version": 3
   },
   "file_extension": ".py",
   "mimetype": "text/x-python",
   "name": "python",
   "nbconvert_exporter": "python",
   "pygments_lexer": "ipython3",
   "version": "3.6.11"
  }
 },
 "nbformat": 4,
 "nbformat_minor": 4
}
